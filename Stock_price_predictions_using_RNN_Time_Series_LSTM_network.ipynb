{
  "nbformat": 4,
  "nbformat_minor": 0,
  "metadata": {
    "kernelspec": {
      "display_name": "Python 3",
      "language": "python",
      "name": "python3"
    },
    "language_info": {
      "codemirror_mode": {
        "name": "ipython",
        "version": 3
      },
      "file_extension": ".py",
      "mimetype": "text/x-python",
      "name": "python",
      "nbconvert_exporter": "python",
      "pygments_lexer": "ipython3",
      "version": "3.7.3"
    },
    "colab": {
      "name": "Stock_price_predictions_using_RNN_Time_Series_LSTM_network.ipynb",
      "provenance": [],
      "collapsed_sections": []
    }
  },
  "cells": [
    {
      "cell_type": "code",
      "metadata": {
        "id": "VWIST0NWvLoX"
      },
      "source": [
        " # Importing needed libraries\n",
        "import numpy as np\n",
        "import matplotlib.pyplot as plt\n",
        "import pandas as pd\n",
        "from tensorflow import random"
      ],
      "execution_count": 5,
      "outputs": []
    },
    {
      "cell_type": "code",
      "metadata": {
        "id": "v62DNDi9mLNM",
        "colab": {
          "base_uri": "https://localhost:8080/"
        },
        "outputId": "ddc8d345-536a-4795-99de-39396b7348a0"
      },
      "source": [
        "from google.colab import drive\n",
        "drive.mount('/content/drive')"
      ],
      "execution_count": 6,
      "outputs": [
        {
          "output_type": "stream",
          "text": [
            "Drive already mounted at /content/drive; to attempt to forcibly remount, call drive.mount(\"/content/drive\", force_remount=True).\n"
          ],
          "name": "stdout"
        }
      ]
    },
    {
      "cell_type": "markdown",
      "metadata": {
        "id": "aPg2YIptniuG"
      },
      "source": [
        "# New Section"
      ]
    },
    {
      "cell_type": "code",
      "metadata": {
        "id": "3INDnRu6vLob",
        "colab": {
          "base_uri": "https://localhost:8080/",
          "height": 197
        },
        "outputId": "cb5e2273-f019-4edf-efa1-230be1c1d9b4"
      },
      "source": [
        "# Importing the training dataset\n",
        "dataset_training = pd.read_csv('/content/drive/MyDrive/Deep Learning with AI/Time series RNN LSTM/AMZN_train.csv')\n",
        "# Displaying the first 5 records \n",
        "dataset_training.head()"
      ],
      "execution_count": 7,
      "outputs": [
        {
          "output_type": "execute_result",
          "data": {
            "text/html": [
              "<div>\n",
              "<style scoped>\n",
              "    .dataframe tbody tr th:only-of-type {\n",
              "        vertical-align: middle;\n",
              "    }\n",
              "\n",
              "    .dataframe tbody tr th {\n",
              "        vertical-align: top;\n",
              "    }\n",
              "\n",
              "    .dataframe thead th {\n",
              "        text-align: right;\n",
              "    }\n",
              "</style>\n",
              "<table border=\"1\" class=\"dataframe\">\n",
              "  <thead>\n",
              "    <tr style=\"text-align: right;\">\n",
              "      <th></th>\n",
              "      <th>Date</th>\n",
              "      <th>Open</th>\n",
              "      <th>High</th>\n",
              "      <th>Low</th>\n",
              "      <th>Close</th>\n",
              "      <th>Adj Close</th>\n",
              "      <th>Volume</th>\n",
              "    </tr>\n",
              "  </thead>\n",
              "  <tbody>\n",
              "    <tr>\n",
              "      <th>0</th>\n",
              "      <td>2014-01-02</td>\n",
              "      <td>398.799988</td>\n",
              "      <td>399.359985</td>\n",
              "      <td>394.019989</td>\n",
              "      <td>397.970001</td>\n",
              "      <td>397.970001</td>\n",
              "      <td>2137800</td>\n",
              "    </tr>\n",
              "    <tr>\n",
              "      <th>1</th>\n",
              "      <td>2014-01-03</td>\n",
              "      <td>398.290009</td>\n",
              "      <td>402.709991</td>\n",
              "      <td>396.220001</td>\n",
              "      <td>396.440002</td>\n",
              "      <td>396.440002</td>\n",
              "      <td>2210200</td>\n",
              "    </tr>\n",
              "    <tr>\n",
              "      <th>2</th>\n",
              "      <td>2014-01-06</td>\n",
              "      <td>395.850006</td>\n",
              "      <td>397.000000</td>\n",
              "      <td>388.420013</td>\n",
              "      <td>393.630005</td>\n",
              "      <td>393.630005</td>\n",
              "      <td>3170600</td>\n",
              "    </tr>\n",
              "    <tr>\n",
              "      <th>3</th>\n",
              "      <td>2014-01-07</td>\n",
              "      <td>395.040009</td>\n",
              "      <td>398.470001</td>\n",
              "      <td>394.290009</td>\n",
              "      <td>398.029999</td>\n",
              "      <td>398.029999</td>\n",
              "      <td>1916000</td>\n",
              "    </tr>\n",
              "    <tr>\n",
              "      <th>4</th>\n",
              "      <td>2014-01-08</td>\n",
              "      <td>398.470001</td>\n",
              "      <td>403.000000</td>\n",
              "      <td>396.040009</td>\n",
              "      <td>401.920013</td>\n",
              "      <td>401.920013</td>\n",
              "      <td>2316500</td>\n",
              "    </tr>\n",
              "  </tbody>\n",
              "</table>\n",
              "</div>"
            ],
            "text/plain": [
              "         Date        Open        High  ...       Close   Adj Close   Volume\n",
              "0  2014-01-02  398.799988  399.359985  ...  397.970001  397.970001  2137800\n",
              "1  2014-01-03  398.290009  402.709991  ...  396.440002  396.440002  2210200\n",
              "2  2014-01-06  395.850006  397.000000  ...  393.630005  393.630005  3170600\n",
              "3  2014-01-07  395.040009  398.470001  ...  398.029999  398.029999  1916000\n",
              "4  2014-01-08  398.470001  403.000000  ...  401.920013  401.920013  2316500\n",
              "\n",
              "[5 rows x 7 columns]"
            ]
          },
          "metadata": {
            "tags": []
          },
          "execution_count": 7
        }
      ]
    },
    {
      "cell_type": "code",
      "metadata": {
        "id": "3iGQREIUvLof",
        "colab": {
          "base_uri": "https://localhost:8080/"
        },
        "outputId": "e88711cb-2f7d-49fc-fc2e-e54c4e97e8cf"
      },
      "source": [
        "# Assigning the predictor column\n",
        "training_data = dataset_training[['Open']].values\n",
        "# Displaying the first 5 records \n",
        "training_data"
      ],
      "execution_count": 8,
      "outputs": [
        {
          "output_type": "execute_result",
          "data": {
            "text/plain": [
              "array([[ 398.799988],\n",
              "       [ 398.290009],\n",
              "       [ 395.850006],\n",
              "       ...,\n",
              "       [1454.199951],\n",
              "       [1473.349976],\n",
              "       [1510.800049]])"
            ]
          },
          "metadata": {
            "tags": []
          },
          "execution_count": 8
        }
      ]
    },
    {
      "cell_type": "code",
      "metadata": {
        "id": "a-_d8Mf4vLoi",
        "colab": {
          "base_uri": "https://localhost:8080/"
        },
        "outputId": "abbecd10-f31c-4fa8-faf7-35b77b7a92ba"
      },
      "source": [
        "# Importing Scaling libraries\n",
        "from sklearn.preprocessing import MinMaxScaler\n",
        "# Defining MinMax standard scaling\n",
        "sc = MinMaxScaler(feature_range = (0, 1))\n",
        "# Scaling the training data \n",
        "training_data_scaled = sc.fit_transform(training_data)\n",
        "# Displaying the scaled training data\n",
        "training_data_scaled "
      ],
      "execution_count": 9,
      "outputs": [
        {
          "output_type": "execute_result",
          "data": {
            "text/plain": [
              "array([[0.06523313],\n",
              "       [0.06494233],\n",
              "       [0.06355099],\n",
              "       ...,\n",
              "       [0.66704299],\n",
              "       [0.67796271],\n",
              "       [0.69931748]])"
            ]
          },
          "metadata": {
            "tags": []
          },
          "execution_count": 9
        }
      ]
    },
    {
      "cell_type": "code",
      "metadata": {
        "id": "DLfMwp_EvLol",
        "colab": {
          "base_uri": "https://localhost:8080/"
        },
        "outputId": "a8008001-f309-48de-abd2-7353306ae19a"
      },
      "source": [
        "# Creating place holders to store X and y training data\n",
        "X_train = []\n",
        "y_train = []\n",
        "# Creating training datasets using window sliding architecture setting window size as 60\n",
        "for i in range(60, 1258):\n",
        "    X_train.append(training_data_scaled[i-60:i, 0])\n",
        "    y_train.append(training_data_scaled[i, 0])\n",
        "# Converting dataframes to arrays\n",
        "X_train, y_train = np.array(X_train), np.array(y_train)\n",
        "# Displaying the train data\n",
        "X_train"
      ],
      "execution_count": 10,
      "outputs": [
        {
          "output_type": "execute_result",
          "data": {
            "text/plain": [
              "array([[0.06523313, 0.06494233, 0.06355099, ..., 0.04147209, 0.03350041,\n",
              "        0.03173272],\n",
              "       [0.06494233, 0.06355099, 0.06308912, ..., 0.03350041, 0.03173272,\n",
              "        0.03307274],\n",
              "       [0.06355099, 0.06308912, 0.06504497, ..., 0.03173272, 0.03307274,\n",
              "        0.0306151 ],\n",
              "       ...,\n",
              "       [0.99080806, 0.97826323, 0.96783389, ..., 0.67319568, 0.60534525,\n",
              "        0.61839758],\n",
              "       [0.97826323, 0.96783389, 0.94918773, ..., 0.60534525, 0.61839758,\n",
              "        0.66704299],\n",
              "       [0.96783389, 0.94918773, 0.93150521, ..., 0.61839758, 0.66704299,\n",
              "        0.67796271]])"
            ]
          },
          "metadata": {
            "tags": []
          },
          "execution_count": 10
        }
      ]
    },
    {
      "cell_type": "code",
      "metadata": {
        "id": "V6_ZtpdevLoo",
        "colab": {
          "base_uri": "https://localhost:8080/"
        },
        "outputId": "c7065fe9-7e24-410f-c7a3-181d1ff57943"
      },
      "source": [
        "# Reshaping the train data from array to 1 dimensional vector to feed to Neural Network\n",
        "X_train = np.reshape(X_train, (X_train.shape[0], X_train.shape[1], 1))\n",
        "# Displaying the reshaped vector data\n",
        "X_train"
      ],
      "execution_count": 11,
      "outputs": [
        {
          "output_type": "execute_result",
          "data": {
            "text/plain": [
              "array([[[0.06523313],\n",
              "        [0.06494233],\n",
              "        [0.06355099],\n",
              "        ...,\n",
              "        [0.04147209],\n",
              "        [0.03350041],\n",
              "        [0.03173272]],\n",
              "\n",
              "       [[0.06494233],\n",
              "        [0.06355099],\n",
              "        [0.06308912],\n",
              "        ...,\n",
              "        [0.03350041],\n",
              "        [0.03173272],\n",
              "        [0.03307274]],\n",
              "\n",
              "       [[0.06355099],\n",
              "        [0.06308912],\n",
              "        [0.06504497],\n",
              "        ...,\n",
              "        [0.03173272],\n",
              "        [0.03307274],\n",
              "        [0.0306151 ]],\n",
              "\n",
              "       ...,\n",
              "\n",
              "       [[0.99080806],\n",
              "        [0.97826323],\n",
              "        [0.96783389],\n",
              "        ...,\n",
              "        [0.67319568],\n",
              "        [0.60534525],\n",
              "        [0.61839758]],\n",
              "\n",
              "       [[0.97826323],\n",
              "        [0.96783389],\n",
              "        [0.94918773],\n",
              "        ...,\n",
              "        [0.60534525],\n",
              "        [0.61839758],\n",
              "        [0.66704299]],\n",
              "\n",
              "       [[0.96783389],\n",
              "        [0.94918773],\n",
              "        [0.93150521],\n",
              "        ...,\n",
              "        [0.61839758],\n",
              "        [0.66704299],\n",
              "        [0.67796271]]])"
            ]
          },
          "metadata": {
            "tags": []
          },
          "execution_count": 11
        }
      ]
    },
    {
      "cell_type": "code",
      "metadata": {
        "id": "yHqA-wbDvLos"
      },
      "source": [
        "# Importing the RNN and LSTM related Neural Network packages\n",
        "from keras.models import Sequential\n",
        "from keras.layers import Dense\n",
        "from keras.layers import LSTM\n",
        "from keras.layers import Dropout"
      ],
      "execution_count": 12,
      "outputs": []
    },
    {
      "cell_type": "code",
      "metadata": {
        "id": "KfBf7j7lvLoz"
      },
      "source": [
        "# Building the RNN Architecure with LSTM\n",
        "model = Sequential()\n",
        "\n",
        "# Adding the input LSTM layer and setting to return full sequence to next layer\n",
        "model.add(LSTM(units = 100, return_sequences = True, input_shape = (X_train.shape[1], 1)))\n",
        "\n",
        "# Adding a second LSTM layer and and setting to return full sequence to next layer\n",
        "model.add(LSTM(units = 100, return_sequences = True))\n",
        "\n",
        "# Adding a third LSTM layer and and setting to return full sequence to next layer\n",
        "model.add(LSTM(units = 100, return_sequences = True))\n",
        "\n",
        "# Adding a fourth LSTM layer\n",
        "model.add(LSTM(units = 100))\n",
        "\n",
        "# Adding the output layer\n",
        "model.add(Dense(units = 1))"
      ],
      "execution_count": 13,
      "outputs": []
    },
    {
      "cell_type": "code",
      "metadata": {
        "id": "DDbtAp1xvLo1",
        "colab": {
          "base_uri": "https://localhost:8080/"
        },
        "outputId": "9bcbe0cc-4250-46d4-e40b-ee6a41173f20"
      },
      "source": [
        "# Compiling the RNN\n",
        "model.compile(optimizer = 'adam', loss = 'mean_squared_error')\n",
        "\n",
        "# Fitting the RNN to the Training set\n",
        "model.fit(X_train, y_train, epochs = 100, batch_size = 32)"
      ],
      "execution_count": 14,
      "outputs": [
        {
          "output_type": "stream",
          "text": [
            "Epoch 1/100\n",
            "38/38 [==============================] - 13s 187ms/step - loss: 0.0382\n",
            "Epoch 2/100\n",
            "38/38 [==============================] - 7s 187ms/step - loss: 0.0013\n",
            "Epoch 3/100\n",
            "38/38 [==============================] - 7s 186ms/step - loss: 0.0011\n",
            "Epoch 4/100\n",
            "38/38 [==============================] - 7s 187ms/step - loss: 8.6933e-04\n",
            "Epoch 5/100\n",
            "38/38 [==============================] - 7s 188ms/step - loss: 0.0011\n",
            "Epoch 6/100\n",
            "38/38 [==============================] - 7s 187ms/step - loss: 9.7488e-04\n",
            "Epoch 7/100\n",
            "38/38 [==============================] - 7s 187ms/step - loss: 0.0011\n",
            "Epoch 8/100\n",
            "38/38 [==============================] - 7s 188ms/step - loss: 0.0010\n",
            "Epoch 9/100\n",
            "38/38 [==============================] - 7s 186ms/step - loss: 6.6007e-04\n",
            "Epoch 10/100\n",
            "38/38 [==============================] - 7s 187ms/step - loss: 8.6299e-04\n",
            "Epoch 11/100\n",
            "38/38 [==============================] - 7s 191ms/step - loss: 7.5965e-04\n",
            "Epoch 12/100\n",
            "38/38 [==============================] - 7s 186ms/step - loss: 0.0012\n",
            "Epoch 13/100\n",
            "38/38 [==============================] - 7s 188ms/step - loss: 8.7283e-04\n",
            "Epoch 14/100\n",
            "38/38 [==============================] - 7s 188ms/step - loss: 6.7316e-04\n",
            "Epoch 15/100\n",
            "38/38 [==============================] - 7s 187ms/step - loss: 8.0803e-04\n",
            "Epoch 16/100\n",
            "38/38 [==============================] - 7s 186ms/step - loss: 6.4238e-04\n",
            "Epoch 17/100\n",
            "38/38 [==============================] - 7s 188ms/step - loss: 6.8553e-04\n",
            "Epoch 18/100\n",
            "38/38 [==============================] - 7s 187ms/step - loss: 9.9692e-04\n",
            "Epoch 19/100\n",
            "38/38 [==============================] - 7s 186ms/step - loss: 7.6305e-04\n",
            "Epoch 20/100\n",
            "38/38 [==============================] - 7s 186ms/step - loss: 8.9916e-04\n",
            "Epoch 21/100\n",
            "38/38 [==============================] - 7s 186ms/step - loss: 5.4390e-04\n",
            "Epoch 22/100\n",
            "38/38 [==============================] - 7s 187ms/step - loss: 8.6387e-04\n",
            "Epoch 23/100\n",
            "38/38 [==============================] - 7s 186ms/step - loss: 7.9518e-04\n",
            "Epoch 24/100\n",
            "38/38 [==============================] - 7s 188ms/step - loss: 9.9261e-04\n",
            "Epoch 25/100\n",
            "38/38 [==============================] - 7s 190ms/step - loss: 6.6338e-04\n",
            "Epoch 26/100\n",
            "38/38 [==============================] - 7s 189ms/step - loss: 5.7500e-04\n",
            "Epoch 27/100\n",
            "38/38 [==============================] - 7s 188ms/step - loss: 8.0583e-04\n",
            "Epoch 28/100\n",
            "38/38 [==============================] - 7s 189ms/step - loss: 9.5345e-04\n",
            "Epoch 29/100\n",
            "38/38 [==============================] - 7s 190ms/step - loss: 4.9058e-04\n",
            "Epoch 30/100\n",
            "38/38 [==============================] - 7s 190ms/step - loss: 5.2434e-04\n",
            "Epoch 31/100\n",
            "38/38 [==============================] - 7s 190ms/step - loss: 5.2923e-04\n",
            "Epoch 32/100\n",
            "38/38 [==============================] - 7s 188ms/step - loss: 3.7958e-04\n",
            "Epoch 33/100\n",
            "38/38 [==============================] - 7s 190ms/step - loss: 3.2549e-04\n",
            "Epoch 34/100\n",
            "38/38 [==============================] - 7s 192ms/step - loss: 4.9796e-04\n",
            "Epoch 35/100\n",
            "38/38 [==============================] - 7s 189ms/step - loss: 9.1809e-04\n",
            "Epoch 36/100\n",
            "38/38 [==============================] - 7s 190ms/step - loss: 3.5437e-04\n",
            "Epoch 37/100\n",
            "38/38 [==============================] - 7s 189ms/step - loss: 5.7596e-04\n",
            "Epoch 38/100\n",
            "38/38 [==============================] - 7s 190ms/step - loss: 4.3022e-04\n",
            "Epoch 39/100\n",
            "38/38 [==============================] - 7s 190ms/step - loss: 4.4255e-04\n",
            "Epoch 40/100\n",
            "38/38 [==============================] - 7s 189ms/step - loss: 3.1816e-04\n",
            "Epoch 41/100\n",
            "38/38 [==============================] - 7s 190ms/step - loss: 3.1371e-04\n",
            "Epoch 42/100\n",
            "38/38 [==============================] - 7s 190ms/step - loss: 2.6366e-04\n",
            "Epoch 43/100\n",
            "38/38 [==============================] - 7s 190ms/step - loss: 2.4664e-04\n",
            "Epoch 44/100\n",
            "38/38 [==============================] - 7s 189ms/step - loss: 2.7895e-04\n",
            "Epoch 45/100\n",
            "38/38 [==============================] - 7s 189ms/step - loss: 2.2770e-04\n",
            "Epoch 46/100\n",
            "38/38 [==============================] - 7s 191ms/step - loss: 2.9762e-04\n",
            "Epoch 47/100\n",
            "38/38 [==============================] - 7s 190ms/step - loss: 5.2850e-04\n",
            "Epoch 48/100\n",
            "38/38 [==============================] - 7s 190ms/step - loss: 2.9994e-04\n",
            "Epoch 49/100\n",
            "38/38 [==============================] - 7s 189ms/step - loss: 2.0938e-04\n",
            "Epoch 50/100\n",
            "38/38 [==============================] - 7s 191ms/step - loss: 3.4811e-04\n",
            "Epoch 51/100\n",
            "38/38 [==============================] - 7s 187ms/step - loss: 2.6055e-04\n",
            "Epoch 52/100\n",
            "38/38 [==============================] - 7s 189ms/step - loss: 2.4766e-04\n",
            "Epoch 53/100\n",
            "38/38 [==============================] - 7s 189ms/step - loss: 2.9041e-04\n",
            "Epoch 54/100\n",
            "38/38 [==============================] - 7s 190ms/step - loss: 2.3234e-04\n",
            "Epoch 55/100\n",
            "38/38 [==============================] - 7s 189ms/step - loss: 2.7625e-04\n",
            "Epoch 56/100\n",
            "38/38 [==============================] - 7s 189ms/step - loss: 2.8255e-04\n",
            "Epoch 57/100\n",
            "38/38 [==============================] - 7s 189ms/step - loss: 3.8088e-04\n",
            "Epoch 58/100\n",
            "38/38 [==============================] - 7s 189ms/step - loss: 2.4268e-04\n",
            "Epoch 59/100\n",
            "38/38 [==============================] - 7s 189ms/step - loss: 2.0763e-04\n",
            "Epoch 60/100\n",
            "38/38 [==============================] - 7s 190ms/step - loss: 2.3215e-04\n",
            "Epoch 61/100\n",
            "38/38 [==============================] - 7s 189ms/step - loss: 2.1073e-04\n",
            "Epoch 62/100\n",
            "38/38 [==============================] - 7s 191ms/step - loss: 2.1342e-04\n",
            "Epoch 63/100\n",
            "38/38 [==============================] - 8s 199ms/step - loss: 2.1049e-04\n",
            "Epoch 64/100\n",
            "38/38 [==============================] - 7s 191ms/step - loss: 4.0028e-04\n",
            "Epoch 65/100\n",
            "38/38 [==============================] - 7s 191ms/step - loss: 2.4391e-04\n",
            "Epoch 66/100\n",
            "38/38 [==============================] - 7s 192ms/step - loss: 3.6809e-04\n",
            "Epoch 67/100\n",
            "38/38 [==============================] - 7s 191ms/step - loss: 2.9927e-04\n",
            "Epoch 68/100\n",
            "38/38 [==============================] - 7s 190ms/step - loss: 2.6364e-04\n",
            "Epoch 69/100\n",
            "38/38 [==============================] - 7s 192ms/step - loss: 3.4760e-04\n",
            "Epoch 70/100\n",
            "38/38 [==============================] - 7s 192ms/step - loss: 2.7185e-04\n",
            "Epoch 71/100\n",
            "38/38 [==============================] - 8s 201ms/step - loss: 2.6562e-04\n",
            "Epoch 72/100\n",
            "38/38 [==============================] - 7s 193ms/step - loss: 2.5686e-04\n",
            "Epoch 73/100\n",
            "38/38 [==============================] - 7s 192ms/step - loss: 2.4249e-04\n",
            "Epoch 74/100\n",
            "38/38 [==============================] - 7s 190ms/step - loss: 1.9434e-04\n",
            "Epoch 75/100\n",
            "38/38 [==============================] - 7s 189ms/step - loss: 1.9476e-04\n",
            "Epoch 76/100\n",
            "38/38 [==============================] - 7s 193ms/step - loss: 2.1388e-04\n",
            "Epoch 77/100\n",
            "38/38 [==============================] - 7s 191ms/step - loss: 1.9722e-04\n",
            "Epoch 78/100\n",
            "38/38 [==============================] - 7s 191ms/step - loss: 2.1125e-04\n",
            "Epoch 79/100\n",
            "38/38 [==============================] - 8s 203ms/step - loss: 3.2756e-04\n",
            "Epoch 80/100\n",
            "38/38 [==============================] - 7s 193ms/step - loss: 2.2483e-04\n",
            "Epoch 81/100\n",
            "38/38 [==============================] - 7s 193ms/step - loss: 2.6161e-04\n",
            "Epoch 82/100\n",
            "38/38 [==============================] - 7s 192ms/step - loss: 2.7047e-04\n",
            "Epoch 83/100\n",
            "38/38 [==============================] - 7s 192ms/step - loss: 3.0802e-04\n",
            "Epoch 84/100\n",
            "38/38 [==============================] - 7s 191ms/step - loss: 2.1171e-04\n",
            "Epoch 85/100\n",
            "38/38 [==============================] - 7s 190ms/step - loss: 1.9111e-04\n",
            "Epoch 86/100\n",
            "38/38 [==============================] - 7s 190ms/step - loss: 1.8177e-04\n",
            "Epoch 87/100\n",
            "38/38 [==============================] - 7s 191ms/step - loss: 1.7092e-04\n",
            "Epoch 88/100\n",
            "38/38 [==============================] - 7s 191ms/step - loss: 2.6372e-04\n",
            "Epoch 89/100\n",
            "38/38 [==============================] - 7s 191ms/step - loss: 2.7812e-04\n",
            "Epoch 90/100\n",
            "38/38 [==============================] - 7s 190ms/step - loss: 2.2295e-04\n",
            "Epoch 91/100\n",
            "38/38 [==============================] - 7s 190ms/step - loss: 2.4046e-04\n",
            "Epoch 92/100\n",
            "38/38 [==============================] - 7s 189ms/step - loss: 2.5418e-04\n",
            "Epoch 93/100\n",
            "38/38 [==============================] - 7s 189ms/step - loss: 1.5953e-04\n",
            "Epoch 94/100\n",
            "38/38 [==============================] - 7s 190ms/step - loss: 2.0177e-04\n",
            "Epoch 95/100\n",
            "38/38 [==============================] - 7s 191ms/step - loss: 2.4725e-04\n",
            "Epoch 96/100\n",
            "38/38 [==============================] - 7s 190ms/step - loss: 2.5771e-04\n",
            "Epoch 97/100\n",
            "38/38 [==============================] - 7s 192ms/step - loss: 1.8021e-04\n",
            "Epoch 98/100\n",
            "38/38 [==============================] - 7s 191ms/step - loss: 1.9324e-04\n",
            "Epoch 99/100\n",
            "38/38 [==============================] - 7s 190ms/step - loss: 1.9256e-04\n",
            "Epoch 100/100\n",
            "38/38 [==============================] - 7s 190ms/step - loss: 2.2635e-04\n"
          ],
          "name": "stdout"
        },
        {
          "output_type": "execute_result",
          "data": {
            "text/plain": [
              "<tensorflow.python.keras.callbacks.History at 0x7f8de4036050>"
            ]
          },
          "metadata": {
            "tags": []
          },
          "execution_count": 14
        }
      ]
    },
    {
      "cell_type": "code",
      "metadata": {
        "id": "RqmMmRVyvLo4",
        "colab": {
          "base_uri": "https://localhost:8080/"
        },
        "outputId": "a22e79a9-e379-4f07-97ad-c695c6b9bd8b"
      },
      "source": [
        "# Loading the test data set\n",
        "dataset_testing = pd.read_csv('/content/drive/MyDrive/Deep Learning with AI/Time series RNN LSTM/AMZN_test.csv')\n",
        "# Assigning the actual values to a variable\n",
        "actual_stock_price = dataset_testing[['Open']].values\n",
        "# Displaying the actual values captured\n",
        "actual_stock_price"
      ],
      "execution_count": 16,
      "outputs": [
        {
          "output_type": "execute_result",
          "data": {
            "text/plain": [
              "array([[1465.199951],\n",
              "       [1520.01001 ],\n",
              "       [1530.      ],\n",
              "       [1602.310059],\n",
              "       [1664.689941],\n",
              "       [1652.97998 ],\n",
              "       [1641.01001 ],\n",
              "       [1640.550049],\n",
              "       [1615.      ],\n",
              "       [1632.      ],\n",
              "       [1684.219971],\n",
              "       [1680.      ],\n",
              "       [1712.      ],\n",
              "       [1681.      ],\n",
              "       [1656.      ],\n",
              "       [1641.069946],\n",
              "       [1670.5     ],\n",
              "       [1643.589966],\n",
              "       [1631.27002 ],\n",
              "       [1623.      ],\n",
              "       [1692.849976]])"
            ]
          },
          "metadata": {
            "tags": []
          },
          "execution_count": 16
        }
      ]
    },
    {
      "cell_type": "code",
      "metadata": {
        "id": "Wi4S3nHhvLo7",
        "colab": {
          "base_uri": "https://localhost:8080/"
        },
        "outputId": "709de314-b278-46cf-d721-111fe12253fe"
      },
      "source": [
        "# Combining the label values (Open Price) from training and test data sets to get complete list of predictions \n",
        "total_data = pd.concat((dataset_training['Open'], dataset_testing['Open']), axis = 0)\n",
        "# Creating output dataset taking first 60 entries as features\n",
        "inputs = total_data[len(total_data) - len(dataset_testing) - 60:].values\n",
        "# Reshaping the train data from array to 1 dimensional vector to feed to Neural Network\n",
        "inputs = inputs.reshape(-1,1)\n",
        "# Scaling the input data\n",
        "inputs = sc.transform(inputs)\n",
        "inputs"
      ],
      "execution_count": 17,
      "outputs": [
        {
          "output_type": "execute_result",
          "data": {
            "text/plain": [
              "array([[0.94918773],\n",
              "       [0.93150521],\n",
              "       [0.90642125],\n",
              "       [0.89843247],\n",
              "       [0.89723502],\n",
              "       [0.8208883 ],\n",
              "       [0.86878675],\n",
              "       [0.8613739 ],\n",
              "       [0.85481637],\n",
              "       [0.88862472],\n",
              "       [0.87647901],\n",
              "       [0.85576295],\n",
              "       [0.85510148],\n",
              "       [0.8312891 ],\n",
              "       [0.84922819],\n",
              "       [0.80910754],\n",
              "       [0.77845823],\n",
              "       [0.78439423],\n",
              "       [0.68526726],\n",
              "       [0.73306875],\n",
              "       [0.76359834],\n",
              "       [0.7949946 ],\n",
              "       [0.78300857],\n",
              "       [0.76064457],\n",
              "       [0.79180709],\n",
              "       [0.83856511],\n",
              "       [0.82573516],\n",
              "       [0.80619943],\n",
              "       [0.7782872 ],\n",
              "       [0.7822958 ],\n",
              "       [0.73935259],\n",
              "       [0.74305331],\n",
              "       [0.73707171],\n",
              "       [0.65752035],\n",
              "       [0.71767282],\n",
              "       [0.70285282],\n",
              "       [0.71539765],\n",
              "       [0.73649007],\n",
              "       [0.75811854],\n",
              "       [0.79294182],\n",
              "       [0.79551352],\n",
              "       [0.84681046],\n",
              "       [0.83913533],\n",
              "       [0.75866022],\n",
              "       [0.81009401],\n",
              "       [0.76377507],\n",
              "       [0.79465819],\n",
              "       [0.78952621],\n",
              "       [0.79579863],\n",
              "       [0.7718494 ],\n",
              "       [0.73079358],\n",
              "       [0.71596787],\n",
              "       [0.71770707],\n",
              "       [0.68403557],\n",
              "       [0.67319568],\n",
              "       [0.60534525],\n",
              "       [0.61839758],\n",
              "       [0.66704299],\n",
              "       [0.67796271],\n",
              "       [0.69931748],\n",
              "       [0.67331541],\n",
              "       [0.70456918],\n",
              "       [0.71026567],\n",
              "       [0.75149829],\n",
              "       [0.78706853],\n",
              "       [0.78039128],\n",
              "       [0.77356577],\n",
              "       [0.77330349],\n",
              "       [0.75873435],\n",
              "       [0.76842808],\n",
              "       [0.79820494],\n",
              "       [0.79579863],\n",
              "       [0.81404566],\n",
              "       [0.79636885],\n",
              "       [0.78211336],\n",
              "       [0.77359994],\n",
              "       [0.79038154],\n",
              "       [0.77503691],\n",
              "       [0.76801183],\n",
              "       [0.76329611],\n",
              "       [0.80312594]])"
            ]
          },
          "metadata": {
            "tags": []
          },
          "execution_count": 17
        }
      ]
    },
    {
      "cell_type": "code",
      "metadata": {
        "id": "KjMZNjTt2q5x",
        "colab": {
          "base_uri": "https://localhost:8080/"
        },
        "outputId": "43a950e8-67f3-4b6d-c916-ff654eb4cb27"
      },
      "source": [
        "# Creating a place holder to store test values\n",
        "X_test = []\n",
        "\n",
        "# Creating data rows with first 60 as features for each of the rows in the test data\n",
        "for i in range(60, 81):\n",
        "    X_test.append(inputs[i-60:i, 0])\n",
        "\n",
        "#Displaying the dataset contents\n",
        "X_test"
      ],
      "execution_count": 18,
      "outputs": [
        {
          "output_type": "execute_result",
          "data": {
            "text/plain": [
              "[array([0.94918773, 0.93150521, 0.90642125, 0.89843247, 0.89723502,\n",
              "        0.8208883 , 0.86878675, 0.8613739 , 0.85481637, 0.88862472,\n",
              "        0.87647901, 0.85576295, 0.85510148, 0.8312891 , 0.84922819,\n",
              "        0.80910754, 0.77845823, 0.78439423, 0.68526726, 0.73306875,\n",
              "        0.76359834, 0.7949946 , 0.78300857, 0.76064457, 0.79180709,\n",
              "        0.83856511, 0.82573516, 0.80619943, 0.7782872 , 0.7822958 ,\n",
              "        0.73935259, 0.74305331, 0.73707171, 0.65752035, 0.71767282,\n",
              "        0.70285282, 0.71539765, 0.73649007, 0.75811854, 0.79294182,\n",
              "        0.79551352, 0.84681046, 0.83913533, 0.75866022, 0.81009401,\n",
              "        0.76377507, 0.79465819, 0.78952621, 0.79579863, 0.7718494 ,\n",
              "        0.73079358, 0.71596787, 0.71770707, 0.68403557, 0.67319568,\n",
              "        0.60534525, 0.61839758, 0.66704299, 0.67796271, 0.69931748]),\n",
              " array([0.93150521, 0.90642125, 0.89843247, 0.89723502, 0.8208883 ,\n",
              "        0.86878675, 0.8613739 , 0.85481637, 0.88862472, 0.87647901,\n",
              "        0.85576295, 0.85510148, 0.8312891 , 0.84922819, 0.80910754,\n",
              "        0.77845823, 0.78439423, 0.68526726, 0.73306875, 0.76359834,\n",
              "        0.7949946 , 0.78300857, 0.76064457, 0.79180709, 0.83856511,\n",
              "        0.82573516, 0.80619943, 0.7782872 , 0.7822958 , 0.73935259,\n",
              "        0.74305331, 0.73707171, 0.65752035, 0.71767282, 0.70285282,\n",
              "        0.71539765, 0.73649007, 0.75811854, 0.79294182, 0.79551352,\n",
              "        0.84681046, 0.83913533, 0.75866022, 0.81009401, 0.76377507,\n",
              "        0.79465819, 0.78952621, 0.79579863, 0.7718494 , 0.73079358,\n",
              "        0.71596787, 0.71770707, 0.68403557, 0.67319568, 0.60534525,\n",
              "        0.61839758, 0.66704299, 0.67796271, 0.69931748, 0.67331541]),\n",
              " array([0.90642125, 0.89843247, 0.89723502, 0.8208883 , 0.86878675,\n",
              "        0.8613739 , 0.85481637, 0.88862472, 0.87647901, 0.85576295,\n",
              "        0.85510148, 0.8312891 , 0.84922819, 0.80910754, 0.77845823,\n",
              "        0.78439423, 0.68526726, 0.73306875, 0.76359834, 0.7949946 ,\n",
              "        0.78300857, 0.76064457, 0.79180709, 0.83856511, 0.82573516,\n",
              "        0.80619943, 0.7782872 , 0.7822958 , 0.73935259, 0.74305331,\n",
              "        0.73707171, 0.65752035, 0.71767282, 0.70285282, 0.71539765,\n",
              "        0.73649007, 0.75811854, 0.79294182, 0.79551352, 0.84681046,\n",
              "        0.83913533, 0.75866022, 0.81009401, 0.76377507, 0.79465819,\n",
              "        0.78952621, 0.79579863, 0.7718494 , 0.73079358, 0.71596787,\n",
              "        0.71770707, 0.68403557, 0.67319568, 0.60534525, 0.61839758,\n",
              "        0.66704299, 0.67796271, 0.69931748, 0.67331541, 0.70456918]),\n",
              " array([0.89843247, 0.89723502, 0.8208883 , 0.86878675, 0.8613739 ,\n",
              "        0.85481637, 0.88862472, 0.87647901, 0.85576295, 0.85510148,\n",
              "        0.8312891 , 0.84922819, 0.80910754, 0.77845823, 0.78439423,\n",
              "        0.68526726, 0.73306875, 0.76359834, 0.7949946 , 0.78300857,\n",
              "        0.76064457, 0.79180709, 0.83856511, 0.82573516, 0.80619943,\n",
              "        0.7782872 , 0.7822958 , 0.73935259, 0.74305331, 0.73707171,\n",
              "        0.65752035, 0.71767282, 0.70285282, 0.71539765, 0.73649007,\n",
              "        0.75811854, 0.79294182, 0.79551352, 0.84681046, 0.83913533,\n",
              "        0.75866022, 0.81009401, 0.76377507, 0.79465819, 0.78952621,\n",
              "        0.79579863, 0.7718494 , 0.73079358, 0.71596787, 0.71770707,\n",
              "        0.68403557, 0.67319568, 0.60534525, 0.61839758, 0.66704299,\n",
              "        0.67796271, 0.69931748, 0.67331541, 0.70456918, 0.71026567]),\n",
              " array([0.89723502, 0.8208883 , 0.86878675, 0.8613739 , 0.85481637,\n",
              "        0.88862472, 0.87647901, 0.85576295, 0.85510148, 0.8312891 ,\n",
              "        0.84922819, 0.80910754, 0.77845823, 0.78439423, 0.68526726,\n",
              "        0.73306875, 0.76359834, 0.7949946 , 0.78300857, 0.76064457,\n",
              "        0.79180709, 0.83856511, 0.82573516, 0.80619943, 0.7782872 ,\n",
              "        0.7822958 , 0.73935259, 0.74305331, 0.73707171, 0.65752035,\n",
              "        0.71767282, 0.70285282, 0.71539765, 0.73649007, 0.75811854,\n",
              "        0.79294182, 0.79551352, 0.84681046, 0.83913533, 0.75866022,\n",
              "        0.81009401, 0.76377507, 0.79465819, 0.78952621, 0.79579863,\n",
              "        0.7718494 , 0.73079358, 0.71596787, 0.71770707, 0.68403557,\n",
              "        0.67319568, 0.60534525, 0.61839758, 0.66704299, 0.67796271,\n",
              "        0.69931748, 0.67331541, 0.70456918, 0.71026567, 0.75149829]),\n",
              " array([0.8208883 , 0.86878675, 0.8613739 , 0.85481637, 0.88862472,\n",
              "        0.87647901, 0.85576295, 0.85510148, 0.8312891 , 0.84922819,\n",
              "        0.80910754, 0.77845823, 0.78439423, 0.68526726, 0.73306875,\n",
              "        0.76359834, 0.7949946 , 0.78300857, 0.76064457, 0.79180709,\n",
              "        0.83856511, 0.82573516, 0.80619943, 0.7782872 , 0.7822958 ,\n",
              "        0.73935259, 0.74305331, 0.73707171, 0.65752035, 0.71767282,\n",
              "        0.70285282, 0.71539765, 0.73649007, 0.75811854, 0.79294182,\n",
              "        0.79551352, 0.84681046, 0.83913533, 0.75866022, 0.81009401,\n",
              "        0.76377507, 0.79465819, 0.78952621, 0.79579863, 0.7718494 ,\n",
              "        0.73079358, 0.71596787, 0.71770707, 0.68403557, 0.67319568,\n",
              "        0.60534525, 0.61839758, 0.66704299, 0.67796271, 0.69931748,\n",
              "        0.67331541, 0.70456918, 0.71026567, 0.75149829, 0.78706853]),\n",
              " array([0.86878675, 0.8613739 , 0.85481637, 0.88862472, 0.87647901,\n",
              "        0.85576295, 0.85510148, 0.8312891 , 0.84922819, 0.80910754,\n",
              "        0.77845823, 0.78439423, 0.68526726, 0.73306875, 0.76359834,\n",
              "        0.7949946 , 0.78300857, 0.76064457, 0.79180709, 0.83856511,\n",
              "        0.82573516, 0.80619943, 0.7782872 , 0.7822958 , 0.73935259,\n",
              "        0.74305331, 0.73707171, 0.65752035, 0.71767282, 0.70285282,\n",
              "        0.71539765, 0.73649007, 0.75811854, 0.79294182, 0.79551352,\n",
              "        0.84681046, 0.83913533, 0.75866022, 0.81009401, 0.76377507,\n",
              "        0.79465819, 0.78952621, 0.79579863, 0.7718494 , 0.73079358,\n",
              "        0.71596787, 0.71770707, 0.68403557, 0.67319568, 0.60534525,\n",
              "        0.61839758, 0.66704299, 0.67796271, 0.69931748, 0.67331541,\n",
              "        0.70456918, 0.71026567, 0.75149829, 0.78706853, 0.78039128]),\n",
              " array([0.8613739 , 0.85481637, 0.88862472, 0.87647901, 0.85576295,\n",
              "        0.85510148, 0.8312891 , 0.84922819, 0.80910754, 0.77845823,\n",
              "        0.78439423, 0.68526726, 0.73306875, 0.76359834, 0.7949946 ,\n",
              "        0.78300857, 0.76064457, 0.79180709, 0.83856511, 0.82573516,\n",
              "        0.80619943, 0.7782872 , 0.7822958 , 0.73935259, 0.74305331,\n",
              "        0.73707171, 0.65752035, 0.71767282, 0.70285282, 0.71539765,\n",
              "        0.73649007, 0.75811854, 0.79294182, 0.79551352, 0.84681046,\n",
              "        0.83913533, 0.75866022, 0.81009401, 0.76377507, 0.79465819,\n",
              "        0.78952621, 0.79579863, 0.7718494 , 0.73079358, 0.71596787,\n",
              "        0.71770707, 0.68403557, 0.67319568, 0.60534525, 0.61839758,\n",
              "        0.66704299, 0.67796271, 0.69931748, 0.67331541, 0.70456918,\n",
              "        0.71026567, 0.75149829, 0.78706853, 0.78039128, 0.77356577]),\n",
              " array([0.85481637, 0.88862472, 0.87647901, 0.85576295, 0.85510148,\n",
              "        0.8312891 , 0.84922819, 0.80910754, 0.77845823, 0.78439423,\n",
              "        0.68526726, 0.73306875, 0.76359834, 0.7949946 , 0.78300857,\n",
              "        0.76064457, 0.79180709, 0.83856511, 0.82573516, 0.80619943,\n",
              "        0.7782872 , 0.7822958 , 0.73935259, 0.74305331, 0.73707171,\n",
              "        0.65752035, 0.71767282, 0.70285282, 0.71539765, 0.73649007,\n",
              "        0.75811854, 0.79294182, 0.79551352, 0.84681046, 0.83913533,\n",
              "        0.75866022, 0.81009401, 0.76377507, 0.79465819, 0.78952621,\n",
              "        0.79579863, 0.7718494 , 0.73079358, 0.71596787, 0.71770707,\n",
              "        0.68403557, 0.67319568, 0.60534525, 0.61839758, 0.66704299,\n",
              "        0.67796271, 0.69931748, 0.67331541, 0.70456918, 0.71026567,\n",
              "        0.75149829, 0.78706853, 0.78039128, 0.77356577, 0.77330349]),\n",
              " array([0.88862472, 0.87647901, 0.85576295, 0.85510148, 0.8312891 ,\n",
              "        0.84922819, 0.80910754, 0.77845823, 0.78439423, 0.68526726,\n",
              "        0.73306875, 0.76359834, 0.7949946 , 0.78300857, 0.76064457,\n",
              "        0.79180709, 0.83856511, 0.82573516, 0.80619943, 0.7782872 ,\n",
              "        0.7822958 , 0.73935259, 0.74305331, 0.73707171, 0.65752035,\n",
              "        0.71767282, 0.70285282, 0.71539765, 0.73649007, 0.75811854,\n",
              "        0.79294182, 0.79551352, 0.84681046, 0.83913533, 0.75866022,\n",
              "        0.81009401, 0.76377507, 0.79465819, 0.78952621, 0.79579863,\n",
              "        0.7718494 , 0.73079358, 0.71596787, 0.71770707, 0.68403557,\n",
              "        0.67319568, 0.60534525, 0.61839758, 0.66704299, 0.67796271,\n",
              "        0.69931748, 0.67331541, 0.70456918, 0.71026567, 0.75149829,\n",
              "        0.78706853, 0.78039128, 0.77356577, 0.77330349, 0.75873435]),\n",
              " array([0.87647901, 0.85576295, 0.85510148, 0.8312891 , 0.84922819,\n",
              "        0.80910754, 0.77845823, 0.78439423, 0.68526726, 0.73306875,\n",
              "        0.76359834, 0.7949946 , 0.78300857, 0.76064457, 0.79180709,\n",
              "        0.83856511, 0.82573516, 0.80619943, 0.7782872 , 0.7822958 ,\n",
              "        0.73935259, 0.74305331, 0.73707171, 0.65752035, 0.71767282,\n",
              "        0.70285282, 0.71539765, 0.73649007, 0.75811854, 0.79294182,\n",
              "        0.79551352, 0.84681046, 0.83913533, 0.75866022, 0.81009401,\n",
              "        0.76377507, 0.79465819, 0.78952621, 0.79579863, 0.7718494 ,\n",
              "        0.73079358, 0.71596787, 0.71770707, 0.68403557, 0.67319568,\n",
              "        0.60534525, 0.61839758, 0.66704299, 0.67796271, 0.69931748,\n",
              "        0.67331541, 0.70456918, 0.71026567, 0.75149829, 0.78706853,\n",
              "        0.78039128, 0.77356577, 0.77330349, 0.75873435, 0.76842808]),\n",
              " array([0.85576295, 0.85510148, 0.8312891 , 0.84922819, 0.80910754,\n",
              "        0.77845823, 0.78439423, 0.68526726, 0.73306875, 0.76359834,\n",
              "        0.7949946 , 0.78300857, 0.76064457, 0.79180709, 0.83856511,\n",
              "        0.82573516, 0.80619943, 0.7782872 , 0.7822958 , 0.73935259,\n",
              "        0.74305331, 0.73707171, 0.65752035, 0.71767282, 0.70285282,\n",
              "        0.71539765, 0.73649007, 0.75811854, 0.79294182, 0.79551352,\n",
              "        0.84681046, 0.83913533, 0.75866022, 0.81009401, 0.76377507,\n",
              "        0.79465819, 0.78952621, 0.79579863, 0.7718494 , 0.73079358,\n",
              "        0.71596787, 0.71770707, 0.68403557, 0.67319568, 0.60534525,\n",
              "        0.61839758, 0.66704299, 0.67796271, 0.69931748, 0.67331541,\n",
              "        0.70456918, 0.71026567, 0.75149829, 0.78706853, 0.78039128,\n",
              "        0.77356577, 0.77330349, 0.75873435, 0.76842808, 0.79820494]),\n",
              " array([0.85510148, 0.8312891 , 0.84922819, 0.80910754, 0.77845823,\n",
              "        0.78439423, 0.68526726, 0.73306875, 0.76359834, 0.7949946 ,\n",
              "        0.78300857, 0.76064457, 0.79180709, 0.83856511, 0.82573516,\n",
              "        0.80619943, 0.7782872 , 0.7822958 , 0.73935259, 0.74305331,\n",
              "        0.73707171, 0.65752035, 0.71767282, 0.70285282, 0.71539765,\n",
              "        0.73649007, 0.75811854, 0.79294182, 0.79551352, 0.84681046,\n",
              "        0.83913533, 0.75866022, 0.81009401, 0.76377507, 0.79465819,\n",
              "        0.78952621, 0.79579863, 0.7718494 , 0.73079358, 0.71596787,\n",
              "        0.71770707, 0.68403557, 0.67319568, 0.60534525, 0.61839758,\n",
              "        0.66704299, 0.67796271, 0.69931748, 0.67331541, 0.70456918,\n",
              "        0.71026567, 0.75149829, 0.78706853, 0.78039128, 0.77356577,\n",
              "        0.77330349, 0.75873435, 0.76842808, 0.79820494, 0.79579863]),\n",
              " array([0.8312891 , 0.84922819, 0.80910754, 0.77845823, 0.78439423,\n",
              "        0.68526726, 0.73306875, 0.76359834, 0.7949946 , 0.78300857,\n",
              "        0.76064457, 0.79180709, 0.83856511, 0.82573516, 0.80619943,\n",
              "        0.7782872 , 0.7822958 , 0.73935259, 0.74305331, 0.73707171,\n",
              "        0.65752035, 0.71767282, 0.70285282, 0.71539765, 0.73649007,\n",
              "        0.75811854, 0.79294182, 0.79551352, 0.84681046, 0.83913533,\n",
              "        0.75866022, 0.81009401, 0.76377507, 0.79465819, 0.78952621,\n",
              "        0.79579863, 0.7718494 , 0.73079358, 0.71596787, 0.71770707,\n",
              "        0.68403557, 0.67319568, 0.60534525, 0.61839758, 0.66704299,\n",
              "        0.67796271, 0.69931748, 0.67331541, 0.70456918, 0.71026567,\n",
              "        0.75149829, 0.78706853, 0.78039128, 0.77356577, 0.77330349,\n",
              "        0.75873435, 0.76842808, 0.79820494, 0.79579863, 0.81404566]),\n",
              " array([0.84922819, 0.80910754, 0.77845823, 0.78439423, 0.68526726,\n",
              "        0.73306875, 0.76359834, 0.7949946 , 0.78300857, 0.76064457,\n",
              "        0.79180709, 0.83856511, 0.82573516, 0.80619943, 0.7782872 ,\n",
              "        0.7822958 , 0.73935259, 0.74305331, 0.73707171, 0.65752035,\n",
              "        0.71767282, 0.70285282, 0.71539765, 0.73649007, 0.75811854,\n",
              "        0.79294182, 0.79551352, 0.84681046, 0.83913533, 0.75866022,\n",
              "        0.81009401, 0.76377507, 0.79465819, 0.78952621, 0.79579863,\n",
              "        0.7718494 , 0.73079358, 0.71596787, 0.71770707, 0.68403557,\n",
              "        0.67319568, 0.60534525, 0.61839758, 0.66704299, 0.67796271,\n",
              "        0.69931748, 0.67331541, 0.70456918, 0.71026567, 0.75149829,\n",
              "        0.78706853, 0.78039128, 0.77356577, 0.77330349, 0.75873435,\n",
              "        0.76842808, 0.79820494, 0.79579863, 0.81404566, 0.79636885]),\n",
              " array([0.80910754, 0.77845823, 0.78439423, 0.68526726, 0.73306875,\n",
              "        0.76359834, 0.7949946 , 0.78300857, 0.76064457, 0.79180709,\n",
              "        0.83856511, 0.82573516, 0.80619943, 0.7782872 , 0.7822958 ,\n",
              "        0.73935259, 0.74305331, 0.73707171, 0.65752035, 0.71767282,\n",
              "        0.70285282, 0.71539765, 0.73649007, 0.75811854, 0.79294182,\n",
              "        0.79551352, 0.84681046, 0.83913533, 0.75866022, 0.81009401,\n",
              "        0.76377507, 0.79465819, 0.78952621, 0.79579863, 0.7718494 ,\n",
              "        0.73079358, 0.71596787, 0.71770707, 0.68403557, 0.67319568,\n",
              "        0.60534525, 0.61839758, 0.66704299, 0.67796271, 0.69931748,\n",
              "        0.67331541, 0.70456918, 0.71026567, 0.75149829, 0.78706853,\n",
              "        0.78039128, 0.77356577, 0.77330349, 0.75873435, 0.76842808,\n",
              "        0.79820494, 0.79579863, 0.81404566, 0.79636885, 0.78211336]),\n",
              " array([0.77845823, 0.78439423, 0.68526726, 0.73306875, 0.76359834,\n",
              "        0.7949946 , 0.78300857, 0.76064457, 0.79180709, 0.83856511,\n",
              "        0.82573516, 0.80619943, 0.7782872 , 0.7822958 , 0.73935259,\n",
              "        0.74305331, 0.73707171, 0.65752035, 0.71767282, 0.70285282,\n",
              "        0.71539765, 0.73649007, 0.75811854, 0.79294182, 0.79551352,\n",
              "        0.84681046, 0.83913533, 0.75866022, 0.81009401, 0.76377507,\n",
              "        0.79465819, 0.78952621, 0.79579863, 0.7718494 , 0.73079358,\n",
              "        0.71596787, 0.71770707, 0.68403557, 0.67319568, 0.60534525,\n",
              "        0.61839758, 0.66704299, 0.67796271, 0.69931748, 0.67331541,\n",
              "        0.70456918, 0.71026567, 0.75149829, 0.78706853, 0.78039128,\n",
              "        0.77356577, 0.77330349, 0.75873435, 0.76842808, 0.79820494,\n",
              "        0.79579863, 0.81404566, 0.79636885, 0.78211336, 0.77359994]),\n",
              " array([0.78439423, 0.68526726, 0.73306875, 0.76359834, 0.7949946 ,\n",
              "        0.78300857, 0.76064457, 0.79180709, 0.83856511, 0.82573516,\n",
              "        0.80619943, 0.7782872 , 0.7822958 , 0.73935259, 0.74305331,\n",
              "        0.73707171, 0.65752035, 0.71767282, 0.70285282, 0.71539765,\n",
              "        0.73649007, 0.75811854, 0.79294182, 0.79551352, 0.84681046,\n",
              "        0.83913533, 0.75866022, 0.81009401, 0.76377507, 0.79465819,\n",
              "        0.78952621, 0.79579863, 0.7718494 , 0.73079358, 0.71596787,\n",
              "        0.71770707, 0.68403557, 0.67319568, 0.60534525, 0.61839758,\n",
              "        0.66704299, 0.67796271, 0.69931748, 0.67331541, 0.70456918,\n",
              "        0.71026567, 0.75149829, 0.78706853, 0.78039128, 0.77356577,\n",
              "        0.77330349, 0.75873435, 0.76842808, 0.79820494, 0.79579863,\n",
              "        0.81404566, 0.79636885, 0.78211336, 0.77359994, 0.79038154]),\n",
              " array([0.68526726, 0.73306875, 0.76359834, 0.7949946 , 0.78300857,\n",
              "        0.76064457, 0.79180709, 0.83856511, 0.82573516, 0.80619943,\n",
              "        0.7782872 , 0.7822958 , 0.73935259, 0.74305331, 0.73707171,\n",
              "        0.65752035, 0.71767282, 0.70285282, 0.71539765, 0.73649007,\n",
              "        0.75811854, 0.79294182, 0.79551352, 0.84681046, 0.83913533,\n",
              "        0.75866022, 0.81009401, 0.76377507, 0.79465819, 0.78952621,\n",
              "        0.79579863, 0.7718494 , 0.73079358, 0.71596787, 0.71770707,\n",
              "        0.68403557, 0.67319568, 0.60534525, 0.61839758, 0.66704299,\n",
              "        0.67796271, 0.69931748, 0.67331541, 0.70456918, 0.71026567,\n",
              "        0.75149829, 0.78706853, 0.78039128, 0.77356577, 0.77330349,\n",
              "        0.75873435, 0.76842808, 0.79820494, 0.79579863, 0.81404566,\n",
              "        0.79636885, 0.78211336, 0.77359994, 0.79038154, 0.77503691]),\n",
              " array([0.73306875, 0.76359834, 0.7949946 , 0.78300857, 0.76064457,\n",
              "        0.79180709, 0.83856511, 0.82573516, 0.80619943, 0.7782872 ,\n",
              "        0.7822958 , 0.73935259, 0.74305331, 0.73707171, 0.65752035,\n",
              "        0.71767282, 0.70285282, 0.71539765, 0.73649007, 0.75811854,\n",
              "        0.79294182, 0.79551352, 0.84681046, 0.83913533, 0.75866022,\n",
              "        0.81009401, 0.76377507, 0.79465819, 0.78952621, 0.79579863,\n",
              "        0.7718494 , 0.73079358, 0.71596787, 0.71770707, 0.68403557,\n",
              "        0.67319568, 0.60534525, 0.61839758, 0.66704299, 0.67796271,\n",
              "        0.69931748, 0.67331541, 0.70456918, 0.71026567, 0.75149829,\n",
              "        0.78706853, 0.78039128, 0.77356577, 0.77330349, 0.75873435,\n",
              "        0.76842808, 0.79820494, 0.79579863, 0.81404566, 0.79636885,\n",
              "        0.78211336, 0.77359994, 0.79038154, 0.77503691, 0.76801183]),\n",
              " array([0.76359834, 0.7949946 , 0.78300857, 0.76064457, 0.79180709,\n",
              "        0.83856511, 0.82573516, 0.80619943, 0.7782872 , 0.7822958 ,\n",
              "        0.73935259, 0.74305331, 0.73707171, 0.65752035, 0.71767282,\n",
              "        0.70285282, 0.71539765, 0.73649007, 0.75811854, 0.79294182,\n",
              "        0.79551352, 0.84681046, 0.83913533, 0.75866022, 0.81009401,\n",
              "        0.76377507, 0.79465819, 0.78952621, 0.79579863, 0.7718494 ,\n",
              "        0.73079358, 0.71596787, 0.71770707, 0.68403557, 0.67319568,\n",
              "        0.60534525, 0.61839758, 0.66704299, 0.67796271, 0.69931748,\n",
              "        0.67331541, 0.70456918, 0.71026567, 0.75149829, 0.78706853,\n",
              "        0.78039128, 0.77356577, 0.77330349, 0.75873435, 0.76842808,\n",
              "        0.79820494, 0.79579863, 0.81404566, 0.79636885, 0.78211336,\n",
              "        0.77359994, 0.79038154, 0.77503691, 0.76801183, 0.76329611])]"
            ]
          },
          "metadata": {
            "tags": []
          },
          "execution_count": 18
        }
      ]
    },
    {
      "cell_type": "code",
      "metadata": {
        "id": "GzpfeMjN5ZgQ",
        "colab": {
          "base_uri": "https://localhost:8080/"
        },
        "outputId": "d9066010-3c7e-49f2-a9cb-069fe6933464"
      },
      "source": [
        "# Converting dataframes to arrays\n",
        "X_test = np.array(X_test)\n",
        "\n",
        "# Displaying the array contents\n",
        "X_test"
      ],
      "execution_count": 19,
      "outputs": [
        {
          "output_type": "execute_result",
          "data": {
            "text/plain": [
              "array([[0.94918773, 0.93150521, 0.90642125, ..., 0.66704299, 0.67796271,\n",
              "        0.69931748],\n",
              "       [0.93150521, 0.90642125, 0.89843247, ..., 0.67796271, 0.69931748,\n",
              "        0.67331541],\n",
              "       [0.90642125, 0.89843247, 0.89723502, ..., 0.69931748, 0.67331541,\n",
              "        0.70456918],\n",
              "       ...,\n",
              "       [0.68526726, 0.73306875, 0.76359834, ..., 0.77359994, 0.79038154,\n",
              "        0.77503691],\n",
              "       [0.73306875, 0.76359834, 0.7949946 , ..., 0.79038154, 0.77503691,\n",
              "        0.76801183],\n",
              "       [0.76359834, 0.7949946 , 0.78300857, ..., 0.77503691, 0.76801183,\n",
              "        0.76329611]])"
            ]
          },
          "metadata": {
            "tags": []
          },
          "execution_count": 19
        }
      ]
    },
    {
      "cell_type": "code",
      "metadata": {
        "id": "qI_qZDvt4JbN",
        "colab": {
          "base_uri": "https://localhost:8080/"
        },
        "outputId": "9d8d4ebb-deb2-455d-9533-5330c483df76"
      },
      "source": [
        "# Reshaping the train data from array to 1 dimensional vector to feed to Neural Network\n",
        "X_test = np.reshape(X_test, (X_test.shape[0], X_test.shape[1], 1))\n",
        "\n",
        "# Displaying the vector contents\n",
        "X_test"
      ],
      "execution_count": 20,
      "outputs": [
        {
          "output_type": "execute_result",
          "data": {
            "text/plain": [
              "array([[[0.94918773],\n",
              "        [0.93150521],\n",
              "        [0.90642125],\n",
              "        ...,\n",
              "        [0.66704299],\n",
              "        [0.67796271],\n",
              "        [0.69931748]],\n",
              "\n",
              "       [[0.93150521],\n",
              "        [0.90642125],\n",
              "        [0.89843247],\n",
              "        ...,\n",
              "        [0.67796271],\n",
              "        [0.69931748],\n",
              "        [0.67331541]],\n",
              "\n",
              "       [[0.90642125],\n",
              "        [0.89843247],\n",
              "        [0.89723502],\n",
              "        ...,\n",
              "        [0.69931748],\n",
              "        [0.67331541],\n",
              "        [0.70456918]],\n",
              "\n",
              "       ...,\n",
              "\n",
              "       [[0.68526726],\n",
              "        [0.73306875],\n",
              "        [0.76359834],\n",
              "        ...,\n",
              "        [0.77359994],\n",
              "        [0.79038154],\n",
              "        [0.77503691]],\n",
              "\n",
              "       [[0.73306875],\n",
              "        [0.76359834],\n",
              "        [0.7949946 ],\n",
              "        ...,\n",
              "        [0.79038154],\n",
              "        [0.77503691],\n",
              "        [0.76801183]],\n",
              "\n",
              "       [[0.76359834],\n",
              "        [0.7949946 ],\n",
              "        [0.78300857],\n",
              "        ...,\n",
              "        [0.77503691],\n",
              "        [0.76801183],\n",
              "        [0.76329611]]])"
            ]
          },
          "metadata": {
            "tags": []
          },
          "execution_count": 20
        }
      ]
    },
    {
      "cell_type": "code",
      "metadata": {
        "id": "WM606L3N5DwA"
      },
      "source": [
        "# Using the built RNN LSTM model to predict the values\n",
        "predicted_stock_price = model.predict(X_test)\n",
        "\n",
        "# Using inverse transform to get absolute values \n",
        "predicted_stock_price = sc.inverse_transform(predicted_stock_price)"
      ],
      "execution_count": 21,
      "outputs": []
    },
    {
      "cell_type": "markdown",
      "metadata": {
        "id": "-RvGgjKnvLo_"
      },
      "source": [
        "Visualize the Results"
      ]
    },
    {
      "cell_type": "code",
      "metadata": {
        "id": "KIaLaEIavLpA",
        "colab": {
          "base_uri": "https://localhost:8080/",
          "height": 294
        },
        "outputId": "6ce01cab-8c79-4f9a-c1ea-1fed0d037957"
      },
      "source": [
        "# Visualising the results comparing actual values and predicted values\n",
        "plt.plot(actual_stock_price, color = 'green', label = 'Real Amazon Stock Price',ls='--')\n",
        "plt.plot(predicted_stock_price, color = 'red', label = 'Predicted Amazon Stock Price',ls='-')\n",
        "plt.title('Predicted Stock Price')\n",
        "plt.xlabel('Time in days')\n",
        "plt.ylabel('Real Stock Price')\n",
        "plt.legend()\n",
        "plt.show()"
      ],
      "execution_count": 22,
      "outputs": [
        {
          "output_type": "display_data",
          "data": {
            "image/png": "[encoded data removed]",
            "text/plain": [
              "<Figure size 432x288 with 1 Axes>"
            ]
          },
          "metadata": {
            "tags": [],
            "needs_background": "light"
          }
        }
      ]
    }
  ]
}